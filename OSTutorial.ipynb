{
 "cells": [
  {
   "cell_type": "code",
   "execution_count": 44,
   "source": [
    "import os"
   ],
   "outputs": [],
   "metadata": {}
  },
  {
   "cell_type": "code",
   "execution_count": 45,
   "source": [
    "print(dir(os))"
   ],
   "outputs": [
    {
     "output_type": "stream",
     "name": "stdout",
     "text": [
      "['CLD_CONTINUED', 'CLD_DUMPED', 'CLD_EXITED', 'CLD_TRAPPED', 'DirEntry', 'EX_CANTCREAT', 'EX_CONFIG', 'EX_DATAERR', 'EX_IOERR', 'EX_NOHOST', 'EX_NOINPUT', 'EX_NOPERM', 'EX_NOUSER', 'EX_OK', 'EX_OSERR', 'EX_OSFILE', 'EX_PROTOCOL', 'EX_SOFTWARE', 'EX_TEMPFAIL', 'EX_UNAVAILABLE', 'EX_USAGE', 'F_LOCK', 'F_OK', 'F_TEST', 'F_TLOCK', 'F_ULOCK', 'MutableMapping', 'NGROUPS_MAX', 'O_ACCMODE', 'O_APPEND', 'O_ASYNC', 'O_CLOEXEC', 'O_CREAT', 'O_DIRECTORY', 'O_DSYNC', 'O_EXCL', 'O_EXLOCK', 'O_NDELAY', 'O_NOCTTY', 'O_NOFOLLOW', 'O_NONBLOCK', 'O_RDONLY', 'O_RDWR', 'O_SHLOCK', 'O_SYNC', 'O_TRUNC', 'O_WRONLY', 'POSIX_SPAWN_CLOSE', 'POSIX_SPAWN_DUP2', 'POSIX_SPAWN_OPEN', 'PRIO_PGRP', 'PRIO_PROCESS', 'PRIO_USER', 'P_ALL', 'P_NOWAIT', 'P_NOWAITO', 'P_PGID', 'P_PID', 'P_WAIT', 'PathLike', 'RTLD_GLOBAL', 'RTLD_LAZY', 'RTLD_LOCAL', 'RTLD_NODELETE', 'RTLD_NOLOAD', 'RTLD_NOW', 'R_OK', 'SCHED_FIFO', 'SCHED_OTHER', 'SCHED_RR', 'SEEK_CUR', 'SEEK_END', 'SEEK_SET', 'ST_NOSUID', 'ST_RDONLY', 'TMP_MAX', 'WCONTINUED', 'WCOREDUMP', 'WEXITED', 'WEXITSTATUS', 'WIFCONTINUED', 'WIFEXITED', 'WIFSIGNALED', 'WIFSTOPPED', 'WNOHANG', 'WNOWAIT', 'WSTOPPED', 'WSTOPSIG', 'WTERMSIG', 'WUNTRACED', 'W_OK', 'X_OK', '_Environ', '__all__', '__builtins__', '__cached__', '__doc__', '__file__', '__loader__', '__name__', '__package__', '__spec__', '_check_methods', '_execvpe', '_exists', '_exit', '_fspath', '_fwalk', '_get_exports_list', '_putenv', '_spawnvef', '_unsetenv', '_wrap_close', 'abc', 'abort', 'access', 'altsep', 'chdir', 'chflags', 'chmod', 'chown', 'chroot', 'close', 'closerange', 'confstr', 'confstr_names', 'cpu_count', 'ctermid', 'curdir', 'defpath', 'device_encoding', 'devnull', 'dup', 'dup2', 'environ', 'environb', 'error', 'execl', 'execle', 'execlp', 'execlpe', 'execv', 'execve', 'execvp', 'execvpe', 'extsep', 'fchdir', 'fchmod', 'fchown', 'fdopen', 'fork', 'forkpty', 'fpathconf', 'fsdecode', 'fsencode', 'fspath', 'fstat', 'fstatvfs', 'fsync', 'ftruncate', 'fwalk', 'get_blocking', 'get_exec_path', 'get_inheritable', 'get_terminal_size', 'getcwd', 'getcwdb', 'getegid', 'getenv', 'getenvb', 'geteuid', 'getgid', 'getgrouplist', 'getgroups', 'getloadavg', 'getlogin', 'getpgid', 'getpgrp', 'getpid', 'getppid', 'getpriority', 'getsid', 'getuid', 'initgroups', 'isatty', 'kill', 'killpg', 'lchflags', 'lchmod', 'lchown', 'linesep', 'link', 'listdir', 'lockf', 'lseek', 'lstat', 'major', 'makedev', 'makedirs', 'minor', 'mkdir', 'mkfifo', 'mknod', 'name', 'nice', 'open', 'openpty', 'pardir', 'path', 'pathconf', 'pathconf_names', 'pathsep', 'pipe', 'popen', 'posix_spawn', 'posix_spawnp', 'pread', 'putenv', 'pwrite', 'read', 'readlink', 'readv', 'register_at_fork', 'remove', 'removedirs', 'rename', 'renames', 'replace', 'rmdir', 'scandir', 'sched_get_priority_max', 'sched_get_priority_min', 'sched_yield', 'sendfile', 'sep', 'set_blocking', 'set_inheritable', 'setegid', 'seteuid', 'setgid', 'setgroups', 'setpgid', 'setpgrp', 'setpriority', 'setregid', 'setreuid', 'setsid', 'setuid', 'spawnl', 'spawnle', 'spawnlp', 'spawnlpe', 'spawnv', 'spawnve', 'spawnvp', 'spawnvpe', 'st', 'stat', 'stat_result', 'statvfs', 'statvfs_result', 'strerror', 'supports_bytes_environ', 'supports_dir_fd', 'supports_effective_ids', 'supports_fd', 'supports_follow_symlinks', 'symlink', 'sync', 'sys', 'sysconf', 'sysconf_names', 'system', 'tcgetpgrp', 'tcsetpgrp', 'terminal_size', 'times', 'times_result', 'truncate', 'ttyname', 'umask', 'uname', 'uname_result', 'unlink', 'unsetenv', 'urandom', 'utime', 'wait', 'wait3', 'wait4', 'waitpid', 'walk', 'write', 'writev']\n"
     ]
    }
   ],
   "metadata": {}
  },
  {
   "cell_type": "code",
   "execution_count": 46,
   "source": [
    "print(os.getcwd())"
   ],
   "outputs": [
    {
     "output_type": "stream",
     "name": "stdout",
     "text": [
      "/Users/josh/Documents/GitHub/exerPythOsTutorial\n"
     ]
    }
   ],
   "metadata": {}
  },
  {
   "cell_type": "code",
   "execution_count": 47,
   "source": [
    "os.chdir('/Users/josh/Documents/GitHub')"
   ],
   "outputs": [],
   "metadata": {}
  },
  {
   "cell_type": "code",
   "execution_count": 48,
   "source": [
    "print(os.getcwd())"
   ],
   "outputs": [
    {
     "output_type": "stream",
     "name": "stdout",
     "text": [
      "/Users/josh/Documents/GitHub\n"
     ]
    }
   ],
   "metadata": {}
  },
  {
   "cell_type": "code",
   "execution_count": 49,
   "source": [
    "os.listdir()"
   ],
   "outputs": [
    {
     "output_type": "execute_result",
     "data": {
      "text/plain": [
       "['.DS_Store',\n",
       " 'exerPythOsTutorial',\n",
       " 'exerPythCondaEnvPkgs',\n",
       " 'test.txt',\n",
       " 'exerPythModPackTutorial']"
      ]
     },
     "metadata": {},
     "execution_count": 49
    }
   ],
   "metadata": {}
  },
  {
   "cell_type": "code",
   "execution_count": 50,
   "source": [
    "os.mkdir('OS-Demo-2')"
   ],
   "outputs": [],
   "metadata": {}
  },
  {
   "cell_type": "code",
   "execution_count": 51,
   "source": [
    "os.listdir()"
   ],
   "outputs": [
    {
     "output_type": "execute_result",
     "data": {
      "text/plain": [
       "['.DS_Store',\n",
       " 'OS-Demo-2',\n",
       " 'exerPythOsTutorial',\n",
       " 'exerPythCondaEnvPkgs',\n",
       " 'test.txt',\n",
       " 'exerPythModPackTutorial']"
      ]
     },
     "metadata": {},
     "execution_count": 51
    }
   ],
   "metadata": {}
  },
  {
   "cell_type": "code",
   "execution_count": 52,
   "source": [
    "os.rmdir('OS-Demo-2')"
   ],
   "outputs": [],
   "metadata": {}
  },
  {
   "cell_type": "code",
   "execution_count": 53,
   "source": [
    "os.listdir()"
   ],
   "outputs": [
    {
     "output_type": "execute_result",
     "data": {
      "text/plain": [
       "['.DS_Store',\n",
       " 'exerPythOsTutorial',\n",
       " 'exerPythCondaEnvPkgs',\n",
       " 'test.txt',\n",
       " 'exerPythModPackTutorial']"
      ]
     },
     "metadata": {},
     "execution_count": 53
    }
   ],
   "metadata": {}
  },
  {
   "cell_type": "code",
   "execution_count": 54,
   "source": [
    "os.makedirs('OS-Demo-2/Sub-Dir-1')"
   ],
   "outputs": [],
   "metadata": {}
  },
  {
   "cell_type": "code",
   "execution_count": 55,
   "source": [
    "os.listdir()"
   ],
   "outputs": [
    {
     "output_type": "execute_result",
     "data": {
      "text/plain": [
       "['.DS_Store',\n",
       " 'OS-Demo-2',\n",
       " 'exerPythOsTutorial',\n",
       " 'exerPythCondaEnvPkgs',\n",
       " 'test.txt',\n",
       " 'exerPythModPackTutorial']"
      ]
     },
     "metadata": {},
     "execution_count": 55
    }
   ],
   "metadata": {}
  },
  {
   "cell_type": "code",
   "execution_count": 56,
   "source": [
    "os.removedirs('OS-Demo-2/Sub-Dir-1')"
   ],
   "outputs": [],
   "metadata": {}
  },
  {
   "cell_type": "code",
   "execution_count": 57,
   "source": [
    "os.listdir()"
   ],
   "outputs": [
    {
     "output_type": "execute_result",
     "data": {
      "text/plain": [
       "['.DS_Store',\n",
       " 'exerPythOsTutorial',\n",
       " 'exerPythCondaEnvPkgs',\n",
       " 'test.txt',\n",
       " 'exerPythModPackTutorial']"
      ]
     },
     "metadata": {},
     "execution_count": 57
    }
   ],
   "metadata": {}
  },
  {
   "cell_type": "code",
   "execution_count": 58,
   "source": [
    "os.rename('test.txt','demo.txt')"
   ],
   "outputs": [],
   "metadata": {}
  },
  {
   "cell_type": "code",
   "execution_count": 59,
   "source": [
    "os.listdir()"
   ],
   "outputs": [
    {
     "output_type": "execute_result",
     "data": {
      "text/plain": [
       "['demo.txt',\n",
       " '.DS_Store',\n",
       " 'exerPythOsTutorial',\n",
       " 'exerPythCondaEnvPkgs',\n",
       " 'exerPythModPackTutorial']"
      ]
     },
     "metadata": {},
     "execution_count": 59
    }
   ],
   "metadata": {}
  },
  {
   "cell_type": "code",
   "execution_count": 60,
   "source": [
    "print(os.stat('demo.txt'))"
   ],
   "outputs": [
    {
     "output_type": "stream",
     "name": "stdout",
     "text": [
      "os.stat_result(st_mode=33188, st_ino=4096133, st_dev=16777224, st_nlink=1, st_uid=501, st_gid=20, st_size=0, st_atime=1631416042, st_mtime=1631416042, st_ctime=1631420624)\n"
     ]
    }
   ],
   "metadata": {}
  },
  {
   "cell_type": "code",
   "execution_count": 61,
   "source": [
    "print(os.stat('demo.txt').st_size)"
   ],
   "outputs": [
    {
     "output_type": "stream",
     "name": "stdout",
     "text": [
      "0\n"
     ]
    }
   ],
   "metadata": {}
  },
  {
   "cell_type": "code",
   "execution_count": 62,
   "source": [
    "print(os.stat('demo.txt').st_mtime)"
   ],
   "outputs": [
    {
     "output_type": "stream",
     "name": "stdout",
     "text": [
      "1631416042.5182276\n"
     ]
    }
   ],
   "metadata": {}
  },
  {
   "cell_type": "code",
   "execution_count": 63,
   "source": [
    "from datetime import datetime\n",
    "\n",
    "mod_time = os.stat('demo.txt').st_mtime\n",
    "\n",
    "print(datetime.fromtimestamp(mod_time))"
   ],
   "outputs": [
    {
     "output_type": "stream",
     "name": "stdout",
     "text": [
      "2021-09-11 21:07:22.518228\n"
     ]
    }
   ],
   "metadata": {}
  },
  {
   "cell_type": "code",
   "execution_count": 65,
   "source": [
    "for dirpath, dirnames, filenames in os.walk('/Users/josh/Documents/GitHub'):\n",
    "    print('Current Path:', dirpath)\n",
    "    print('Directories:', dirnames)\n",
    "    print('Files:', filenames)\n",
    "    print()"
   ],
   "outputs": [
    {
     "output_type": "stream",
     "name": "stdout",
     "text": [
      "Current Path: /Users/josh/Documents/GitHub\n",
      "Directories: ['exerPythOsTutorial', 'exerPythCondaEnvPkgs', 'exerPythModPackTutorial']\n",
      "Files: ['demo.txt', '.DS_Store']\n",
      "\n",
      "Current Path: /Users/josh/Documents/GitHub/exerPythOsTutorial\n",
      "Directories: ['.git']\n",
      "Files: ['README.md', 'OSTutorial.ipynb']\n",
      "\n",
      "Current Path: /Users/josh/Documents/GitHub/exerPythOsTutorial/.git\n",
      "Directories: ['objects', 'info', 'logs', 'hooks', 'refs', 'branches']\n",
      "Files: ['config', 'HEAD', 'description', 'index', 'packed-refs', 'FETCH_HEAD']\n",
      "\n",
      "Current Path: /Users/josh/Documents/GitHub/exerPythOsTutorial/.git/objects\n",
      "Directories: ['pack', 'info']\n",
      "Files: []\n",
      "\n",
      "Current Path: /Users/josh/Documents/GitHub/exerPythOsTutorial/.git/objects/pack\n",
      "Directories: []\n",
      "Files: ['pack-3dcd781a7c96ffa7eb4340c2085d98e627b1fcc6.pack', 'pack-3dcd781a7c96ffa7eb4340c2085d98e627b1fcc6.idx']\n",
      "\n",
      "Current Path: /Users/josh/Documents/GitHub/exerPythOsTutorial/.git/objects/info\n",
      "Directories: []\n",
      "Files: []\n",
      "\n",
      "Current Path: /Users/josh/Documents/GitHub/exerPythOsTutorial/.git/info\n",
      "Directories: []\n",
      "Files: ['exclude']\n",
      "\n",
      "Current Path: /Users/josh/Documents/GitHub/exerPythOsTutorial/.git/logs\n",
      "Directories: ['refs']\n",
      "Files: ['HEAD']\n",
      "\n",
      "Current Path: /Users/josh/Documents/GitHub/exerPythOsTutorial/.git/logs/refs\n",
      "Directories: ['heads', 'remotes']\n",
      "Files: []\n",
      "\n",
      "Current Path: /Users/josh/Documents/GitHub/exerPythOsTutorial/.git/logs/refs/heads\n",
      "Directories: []\n",
      "Files: ['master']\n",
      "\n",
      "Current Path: /Users/josh/Documents/GitHub/exerPythOsTutorial/.git/logs/refs/remotes\n",
      "Directories: ['origin', 'upstream']\n",
      "Files: []\n",
      "\n",
      "Current Path: /Users/josh/Documents/GitHub/exerPythOsTutorial/.git/logs/refs/remotes/origin\n",
      "Directories: []\n",
      "Files: ['HEAD']\n",
      "\n",
      "Current Path: /Users/josh/Documents/GitHub/exerPythOsTutorial/.git/logs/refs/remotes/upstream\n",
      "Directories: []\n",
      "Files: ['master']\n",
      "\n",
      "Current Path: /Users/josh/Documents/GitHub/exerPythOsTutorial/.git/hooks\n",
      "Directories: []\n",
      "Files: ['commit-msg.sample', 'pre-rebase.sample', 'pre-commit.sample', 'applypatch-msg.sample', 'fsmonitor-watchman.sample', 'pre-receive.sample', 'prepare-commit-msg.sample', 'post-update.sample', 'pre-merge-commit.sample', 'pre-applypatch.sample', 'pre-push.sample', 'update.sample']\n",
      "\n",
      "Current Path: /Users/josh/Documents/GitHub/exerPythOsTutorial/.git/refs\n",
      "Directories: ['heads', 'tags', 'remotes']\n",
      "Files: []\n",
      "\n",
      "Current Path: /Users/josh/Documents/GitHub/exerPythOsTutorial/.git/refs/heads\n",
      "Directories: []\n",
      "Files: ['master']\n",
      "\n",
      "Current Path: /Users/josh/Documents/GitHub/exerPythOsTutorial/.git/refs/tags\n",
      "Directories: []\n",
      "Files: []\n",
      "\n",
      "Current Path: /Users/josh/Documents/GitHub/exerPythOsTutorial/.git/refs/remotes\n",
      "Directories: ['origin', 'upstream']\n",
      "Files: []\n",
      "\n",
      "Current Path: /Users/josh/Documents/GitHub/exerPythOsTutorial/.git/refs/remotes/origin\n",
      "Directories: []\n",
      "Files: ['HEAD']\n",
      "\n",
      "Current Path: /Users/josh/Documents/GitHub/exerPythOsTutorial/.git/refs/remotes/upstream\n",
      "Directories: []\n",
      "Files: ['master']\n",
      "\n",
      "Current Path: /Users/josh/Documents/GitHub/exerPythOsTutorial/.git/branches\n",
      "Directories: []\n",
      "Files: []\n",
      "\n",
      "Current Path: /Users/josh/Documents/GitHub/exerPythCondaEnvPkgs\n",
      "Directories: ['.git']\n",
      "Files: ['README.md']\n",
      "\n",
      "Current Path: /Users/josh/Documents/GitHub/exerPythCondaEnvPkgs/.git\n",
      "Directories: ['objects', 'info', 'logs', 'hooks', 'refs', 'branches']\n",
      "Files: ['config', 'HEAD', 'description', 'index', 'packed-refs', 'COMMIT_EDITMSG', 'FETCH_HEAD']\n",
      "\n",
      "Current Path: /Users/josh/Documents/GitHub/exerPythCondaEnvPkgs/.git/objects\n",
      "Directories: ['95', 'd8', 'pack', 'info', '98']\n",
      "Files: []\n",
      "\n",
      "Current Path: /Users/josh/Documents/GitHub/exerPythCondaEnvPkgs/.git/objects/95\n",
      "Directories: []\n",
      "Files: ['99453b74043fc9aa7bfdccdfcf3972bd32d1d0']\n",
      "\n",
      "Current Path: /Users/josh/Documents/GitHub/exerPythCondaEnvPkgs/.git/objects/d8\n",
      "Directories: []\n",
      "Files: ['d8d94eea891a732a58936772222197bff57914']\n",
      "\n",
      "Current Path: /Users/josh/Documents/GitHub/exerPythCondaEnvPkgs/.git/objects/pack\n",
      "Directories: []\n",
      "Files: ['pack-7fbe98f847de3893ed472243a4f4ee98ad7ada2f.pack', 'pack-7fbe98f847de3893ed472243a4f4ee98ad7ada2f.idx']\n",
      "\n",
      "Current Path: /Users/josh/Documents/GitHub/exerPythCondaEnvPkgs/.git/objects/info\n",
      "Directories: []\n",
      "Files: []\n",
      "\n",
      "Current Path: /Users/josh/Documents/GitHub/exerPythCondaEnvPkgs/.git/objects/98\n",
      "Directories: []\n",
      "Files: ['4ad2101b002b354adc68db4e743e572e55db3c']\n",
      "\n",
      "Current Path: /Users/josh/Documents/GitHub/exerPythCondaEnvPkgs/.git/info\n",
      "Directories: []\n",
      "Files: ['exclude']\n",
      "\n",
      "Current Path: /Users/josh/Documents/GitHub/exerPythCondaEnvPkgs/.git/logs\n",
      "Directories: ['refs']\n",
      "Files: ['HEAD']\n",
      "\n",
      "Current Path: /Users/josh/Documents/GitHub/exerPythCondaEnvPkgs/.git/logs/refs\n",
      "Directories: ['heads', 'remotes']\n",
      "Files: []\n",
      "\n",
      "Current Path: /Users/josh/Documents/GitHub/exerPythCondaEnvPkgs/.git/logs/refs/heads\n",
      "Directories: []\n",
      "Files: ['master']\n",
      "\n",
      "Current Path: /Users/josh/Documents/GitHub/exerPythCondaEnvPkgs/.git/logs/refs/remotes\n",
      "Directories: ['origin', 'upstream']\n",
      "Files: []\n",
      "\n",
      "Current Path: /Users/josh/Documents/GitHub/exerPythCondaEnvPkgs/.git/logs/refs/remotes/origin\n",
      "Directories: []\n",
      "Files: ['HEAD', 'master']\n",
      "\n",
      "Current Path: /Users/josh/Documents/GitHub/exerPythCondaEnvPkgs/.git/logs/refs/remotes/upstream\n",
      "Directories: []\n",
      "Files: ['master']\n",
      "\n",
      "Current Path: /Users/josh/Documents/GitHub/exerPythCondaEnvPkgs/.git/hooks\n",
      "Directories: []\n",
      "Files: ['commit-msg.sample', 'pre-rebase.sample', 'pre-commit.sample', 'applypatch-msg.sample', 'fsmonitor-watchman.sample', 'pre-receive.sample', 'prepare-commit-msg.sample', 'post-update.sample', 'pre-merge-commit.sample', 'pre-applypatch.sample', 'pre-push.sample', 'update.sample']\n",
      "\n",
      "Current Path: /Users/josh/Documents/GitHub/exerPythCondaEnvPkgs/.git/refs\n",
      "Directories: ['heads', 'tags', 'remotes']\n",
      "Files: []\n",
      "\n",
      "Current Path: /Users/josh/Documents/GitHub/exerPythCondaEnvPkgs/.git/refs/heads\n",
      "Directories: []\n",
      "Files: ['master']\n",
      "\n",
      "Current Path: /Users/josh/Documents/GitHub/exerPythCondaEnvPkgs/.git/refs/tags\n",
      "Directories: []\n",
      "Files: []\n",
      "\n",
      "Current Path: /Users/josh/Documents/GitHub/exerPythCondaEnvPkgs/.git/refs/remotes\n",
      "Directories: ['origin', 'upstream']\n",
      "Files: []\n",
      "\n",
      "Current Path: /Users/josh/Documents/GitHub/exerPythCondaEnvPkgs/.git/refs/remotes/origin\n",
      "Directories: []\n",
      "Files: ['HEAD', 'master']\n",
      "\n",
      "Current Path: /Users/josh/Documents/GitHub/exerPythCondaEnvPkgs/.git/refs/remotes/upstream\n",
      "Directories: []\n",
      "Files: ['master']\n",
      "\n",
      "Current Path: /Users/josh/Documents/GitHub/exerPythCondaEnvPkgs/.git/branches\n",
      "Directories: []\n",
      "Files: []\n",
      "\n",
      "Current Path: /Users/josh/Documents/GitHub/exerPythModPackTutorial\n",
      "Directories: ['__pycache__', '.git']\n",
      "Files: ['importer.py', 'fact.py', 'README.md', 'mod.py']\n",
      "\n",
      "Current Path: /Users/josh/Documents/GitHub/exerPythModPackTutorial/__pycache__\n",
      "Directories: []\n",
      "Files: ['fact.cpython-38.pyc', 'mod.cpython-38.pyc']\n",
      "\n",
      "Current Path: /Users/josh/Documents/GitHub/exerPythModPackTutorial/.git\n",
      "Directories: ['objects', 'info', 'logs', 'hooks', 'refs', 'branches']\n",
      "Files: ['config', 'HEAD', 'description', 'index', 'packed-refs', 'COMMIT_EDITMSG', 'FETCH_HEAD']\n",
      "\n",
      "Current Path: /Users/josh/Documents/GitHub/exerPythModPackTutorial/.git/objects\n",
      "Directories: ['69', '67', 'b2', 'ae', 'pack', '31', 'info', '5e', 'b1', 'a1', '2c']\n",
      "Files: []\n",
      "\n",
      "Current Path: /Users/josh/Documents/GitHub/exerPythModPackTutorial/.git/objects/69\n",
      "Directories: []\n",
      "Files: ['21b0bf04ab0be0a7dae6167defd810b645c537']\n",
      "\n",
      "Current Path: /Users/josh/Documents/GitHub/exerPythModPackTutorial/.git/objects/67\n",
      "Directories: []\n",
      "Files: ['ba095aee4f09f5cf329587fec04fad112a521a']\n",
      "\n",
      "Current Path: /Users/josh/Documents/GitHub/exerPythModPackTutorial/.git/objects/b2\n",
      "Directories: []\n",
      "Files: ['92c5c976bea618e9107e13575f96319d3feea2']\n",
      "\n",
      "Current Path: /Users/josh/Documents/GitHub/exerPythModPackTutorial/.git/objects/ae\n",
      "Directories: []\n",
      "Files: ['ac1304bf0d5c0d0627dbb9b91182b7bc9fb732']\n",
      "\n",
      "Current Path: /Users/josh/Documents/GitHub/exerPythModPackTutorial/.git/objects/pack\n",
      "Directories: []\n",
      "Files: ['pack-4e7aa90a0b326de104a53d45de5cbfb9a40b0864.idx', 'pack-4e7aa90a0b326de104a53d45de5cbfb9a40b0864.pack']\n",
      "\n",
      "Current Path: /Users/josh/Documents/GitHub/exerPythModPackTutorial/.git/objects/31\n",
      "Directories: []\n",
      "Files: ['d3c565840e641fa4514986c4c9155f45e42fb4']\n",
      "\n",
      "Current Path: /Users/josh/Documents/GitHub/exerPythModPackTutorial/.git/objects/info\n",
      "Directories: []\n",
      "Files: []\n",
      "\n",
      "Current Path: /Users/josh/Documents/GitHub/exerPythModPackTutorial/.git/objects/5e\n",
      "Directories: []\n",
      "Files: ['d71a25f454440311b983962d5aa2f480778240']\n",
      "\n",
      "Current Path: /Users/josh/Documents/GitHub/exerPythModPackTutorial/.git/objects/b1\n",
      "Directories: []\n",
      "Files: ['5d65ca62af81c8dc70710df0641932b49a92f0']\n",
      "\n",
      "Current Path: /Users/josh/Documents/GitHub/exerPythModPackTutorial/.git/objects/a1\n",
      "Directories: []\n",
      "Files: ['7492f7d48727b4bfe14e5088e836c641a98dda']\n",
      "\n",
      "Current Path: /Users/josh/Documents/GitHub/exerPythModPackTutorial/.git/objects/2c\n",
      "Directories: []\n",
      "Files: ['02e6126d35935d229268b3d73cbfba43db687f']\n",
      "\n",
      "Current Path: /Users/josh/Documents/GitHub/exerPythModPackTutorial/.git/info\n",
      "Directories: []\n",
      "Files: ['exclude']\n",
      "\n",
      "Current Path: /Users/josh/Documents/GitHub/exerPythModPackTutorial/.git/logs\n",
      "Directories: ['refs']\n",
      "Files: ['HEAD']\n",
      "\n",
      "Current Path: /Users/josh/Documents/GitHub/exerPythModPackTutorial/.git/logs/refs\n",
      "Directories: ['heads', 'remotes']\n",
      "Files: []\n",
      "\n",
      "Current Path: /Users/josh/Documents/GitHub/exerPythModPackTutorial/.git/logs/refs/heads\n",
      "Directories: []\n",
      "Files: ['master']\n",
      "\n",
      "Current Path: /Users/josh/Documents/GitHub/exerPythModPackTutorial/.git/logs/refs/remotes\n",
      "Directories: ['origin', 'upstream']\n",
      "Files: []\n",
      "\n",
      "Current Path: /Users/josh/Documents/GitHub/exerPythModPackTutorial/.git/logs/refs/remotes/origin\n",
      "Directories: []\n",
      "Files: ['HEAD', 'master']\n",
      "\n",
      "Current Path: /Users/josh/Documents/GitHub/exerPythModPackTutorial/.git/logs/refs/remotes/upstream\n",
      "Directories: []\n",
      "Files: ['master']\n",
      "\n",
      "Current Path: /Users/josh/Documents/GitHub/exerPythModPackTutorial/.git/hooks\n",
      "Directories: []\n",
      "Files: ['commit-msg.sample', 'pre-rebase.sample', 'pre-commit.sample', 'applypatch-msg.sample', 'fsmonitor-watchman.sample', 'pre-receive.sample', 'prepare-commit-msg.sample', 'post-update.sample', 'pre-merge-commit.sample', 'pre-applypatch.sample', 'pre-push.sample', 'update.sample']\n",
      "\n",
      "Current Path: /Users/josh/Documents/GitHub/exerPythModPackTutorial/.git/refs\n",
      "Directories: ['heads', 'tags', 'remotes']\n",
      "Files: []\n",
      "\n",
      "Current Path: /Users/josh/Documents/GitHub/exerPythModPackTutorial/.git/refs/heads\n",
      "Directories: []\n",
      "Files: ['master']\n",
      "\n",
      "Current Path: /Users/josh/Documents/GitHub/exerPythModPackTutorial/.git/refs/tags\n",
      "Directories: []\n",
      "Files: []\n",
      "\n",
      "Current Path: /Users/josh/Documents/GitHub/exerPythModPackTutorial/.git/refs/remotes\n",
      "Directories: ['origin', 'upstream']\n",
      "Files: []\n",
      "\n",
      "Current Path: /Users/josh/Documents/GitHub/exerPythModPackTutorial/.git/refs/remotes/origin\n",
      "Directories: []\n",
      "Files: ['HEAD', 'master']\n",
      "\n",
      "Current Path: /Users/josh/Documents/GitHub/exerPythModPackTutorial/.git/refs/remotes/upstream\n",
      "Directories: []\n",
      "Files: ['master']\n",
      "\n",
      "Current Path: /Users/josh/Documents/GitHub/exerPythModPackTutorial/.git/branches\n",
      "Directories: []\n",
      "Files: []\n",
      "\n"
     ]
    }
   ],
   "metadata": {}
  },
  {
   "cell_type": "code",
   "execution_count": 66,
   "source": [
    "print(os.environ.get('HOME'))"
   ],
   "outputs": [
    {
     "output_type": "stream",
     "name": "stdout",
     "text": [
      "/Users/josh\n"
     ]
    }
   ],
   "metadata": {}
  },
  {
   "cell_type": "code",
   "execution_count": 68,
   "source": [
    "# file_path = os.environ.get('HOME') + 'test.txt'\n",
    "\n",
    "# print(file_path)"
   ],
   "outputs": [
    {
     "output_type": "stream",
     "name": "stdout",
     "text": [
      "/Users/joshtest.txt\n"
     ]
    }
   ],
   "metadata": {}
  },
  {
   "cell_type": "code",
   "execution_count": 72,
   "source": [
    "file_path = os.path.join(os.environ.get('HOME'), 'test.txt')\n",
    "print(file_path)\n",
    "\n",
    "# with open(file_path, 'w') as f:\n",
    "    # f.wte"
   ],
   "outputs": [
    {
     "output_type": "stream",
     "name": "stdout",
     "text": [
      "/Users/josh/test.txt\n"
     ]
    }
   ],
   "metadata": {}
  },
  {
   "cell_type": "code",
   "execution_count": 73,
   "source": [
    "print(os.path.basename('/tmp/test.txt'))"
   ],
   "outputs": [
    {
     "output_type": "stream",
     "name": "stdout",
     "text": [
      "test.txt\n"
     ]
    }
   ],
   "metadata": {}
  },
  {
   "cell_type": "code",
   "execution_count": 75,
   "source": [
    "print(os.path.dirname('/tmp/test.txt'))"
   ],
   "outputs": [
    {
     "output_type": "stream",
     "name": "stdout",
     "text": [
      "/tmp\n"
     ]
    }
   ],
   "metadata": {}
  },
  {
   "cell_type": "code",
   "execution_count": 76,
   "source": [
    "print(os.path.split('/tmp/test.txt'))"
   ],
   "outputs": [
    {
     "output_type": "stream",
     "name": "stdout",
     "text": [
      "('/tmp', 'test.txt')\n"
     ]
    }
   ],
   "metadata": {}
  },
  {
   "cell_type": "code",
   "execution_count": 77,
   "source": [
    "print(os.path.exists('/tmp/test.txt'))"
   ],
   "outputs": [
    {
     "output_type": "stream",
     "name": "stdout",
     "text": [
      "False\n"
     ]
    }
   ],
   "metadata": {}
  },
  {
   "cell_type": "code",
   "execution_count": 78,
   "source": [
    "print(os.path.isdir('/tmp/fgdfgdf'))"
   ],
   "outputs": [
    {
     "output_type": "stream",
     "name": "stdout",
     "text": [
      "False\n"
     ]
    }
   ],
   "metadata": {}
  },
  {
   "cell_type": "code",
   "execution_count": 79,
   "source": [
    "print(os.path.isfile('/tmp/fgdfgdf'))"
   ],
   "outputs": [
    {
     "output_type": "stream",
     "name": "stdout",
     "text": [
      "False\n"
     ]
    }
   ],
   "metadata": {}
  },
  {
   "cell_type": "code",
   "execution_count": 80,
   "source": [
    "print(os.path.splitext('/tmp/test.txt'))"
   ],
   "outputs": [
    {
     "output_type": "stream",
     "name": "stdout",
     "text": [
      "('/tmp/test', '.txt')\n"
     ]
    }
   ],
   "metadata": {}
  },
  {
   "cell_type": "code",
   "execution_count": 81,
   "source": [
    "print(dir(os.path))"
   ],
   "outputs": [
    {
     "output_type": "stream",
     "name": "stdout",
     "text": [
      "['__all__', '__builtins__', '__cached__', '__doc__', '__file__', '__loader__', '__name__', '__package__', '__spec__', '_get_sep', '_joinrealpath', '_varprog', '_varprogb', 'abspath', 'altsep', 'basename', 'commonpath', 'commonprefix', 'curdir', 'defpath', 'devnull', 'dirname', 'exists', 'expanduser', 'expandvars', 'extsep', 'genericpath', 'getatime', 'getctime', 'getmtime', 'getsize', 'isabs', 'isdir', 'isfile', 'islink', 'ismount', 'join', 'lexists', 'normcase', 'normpath', 'os', 'pardir', 'pathsep', 'realpath', 'relpath', 'samefile', 'sameopenfile', 'samestat', 'sep', 'split', 'splitdrive', 'splitext', 'stat', 'supports_unicode_filenames', 'sys']\n"
     ]
    }
   ],
   "metadata": {}
  },
  {
   "cell_type": "code",
   "execution_count": null,
   "source": [
    "# https://www.python.org/doc/"
   ],
   "outputs": [],
   "metadata": {}
  },
  {
   "cell_type": "code",
   "execution_count": null,
   "source": [
    "# https://docs.python.org/3/library/os.html#module-os"
   ],
   "outputs": [],
   "metadata": {}
  }
 ],
 "metadata": {
  "orig_nbformat": 4,
  "language_info": {
   "name": "python",
   "version": "3.8.8",
   "mimetype": "text/x-python",
   "codemirror_mode": {
    "name": "ipython",
    "version": 3
   },
   "pygments_lexer": "ipython3",
   "nbconvert_exporter": "python",
   "file_extension": ".py"
  },
  "kernelspec": {
   "name": "python3",
   "display_name": "Python 3.8.8 64-bit ('base': conda)"
  },
  "interpreter": {
   "hash": "b6b651f281809d6f5bb1ebb314364d3970bc3b05c24a509e1dfeed0ec94f0fd7"
  }
 },
 "nbformat": 4,
 "nbformat_minor": 2
}